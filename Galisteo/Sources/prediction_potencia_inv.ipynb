{
 "cells": [
  {
   "cell_type": "code",
   "execution_count": 1,
   "metadata": {},
   "outputs": [],
   "source": [
    "import numpy as np\n",
    "import pandas as pd\n",
    "import seaborn as sns\n",
    "from sqlalchemy import create_engine\n",
    "import warnings\n",
    "import json\n",
    "import pickle\n",
    "import os\n",
    "import sys\n",
    "\n",
    "warnings.filterwarnings('ignore')"
   ]
  },
  {
   "cell_type": "code",
   "execution_count": null,
   "metadata": {},
   "outputs": [],
   "source": [
    "def get_models(initial_path):\n",
    "    models = {}\n",
    "    for inv_dir in os.listdir(initial_path):\n",
    "        if (\"inversor\" in inv_dir.lower()) & (os.path.isdir(os.path.join(initial_path, inv_dir))):\n",
    "            explotacion_path = os.path.join(initial_path, inv_dir, \"Explotacion\")\n",
    "            for model_dir in os.listdir(explotacion_path):\n",
    "                model_path = os.path.join(explotacion_path, model_dir)\n",
    "                if os.path.isdir(model_path):\n",
    "                    with open(os.path.join(model_path, \"model.pkl\"), \"rb\") as f:\n",
    "                        models[model_dir] = pickle.load(f)"
   ]
  },
  {
   "cell_type": "code",
   "execution_count": null,
   "metadata": {},
   "outputs": [],
   "source": [
    "root_path = os.getcwd()\n",
    "params = None\n",
    "for filename in os.listdir(root_path):\n",
    "    if \"params.json\" in filename:\n",
    "        with open(os.path.join(root_path, filename)) as f:\n",
    "            params = json.load(f)\n",
    "if params is None:\n",
    "    print(\"No se ha encontrado el archivo de parámetros para la conexión a la base de datos\")\n",
    "    sys.exit()\n",
    "data_path = os.path.join(root_path, params[\"data_path\"])\n",
    "schema_name = params[\"schema\"]\n",
    "\n",
    "password = params['password'].replace('@', '%40')\n",
    "engine = create_engine(f'postgresql://{params[\"user\"]}:{password}@{params[\"host\"]}:{params[\"port\"]}/{params[\"dbname\"]}')\n",
    "print(f\"Conexión a la base de datos {params['dbname']} (esquema {schema_name}) establecida\")"
   ]
  }
 ],
 "metadata": {
  "kernelspec": {
   "display_name": "Test_FVPredictive",
   "language": "python",
   "name": "python3"
  },
  "language_info": {
   "codemirror_mode": {
    "name": "ipython",
    "version": 3
   },
   "file_extension": ".py",
   "mimetype": "text/x-python",
   "name": "python",
   "nbconvert_exporter": "python",
   "pygments_lexer": "ipython3",
   "version": "3.10.12"
  }
 },
 "nbformat": 4,
 "nbformat_minor": 2
}
